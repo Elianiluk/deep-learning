{
  "cells": [
    {
      "cell_type": "markdown",
      "metadata": {
        "id": "view-in-github",
        "colab_type": "text"
      },
      "source": [
        "<a href=\"https://colab.research.google.com/github/Elianiluk/deep-learning/blob/main/softmax.ipynb\" target=\"_parent\"><img src=\"https://colab.research.google.com/assets/colab-badge.svg\" alt=\"Open In Colab\"/></a>"
      ]
    },
    {
      "cell_type": "code",
      "execution_count": null,
      "id": "d8aaae81",
      "metadata": {
        "id": "d8aaae81",
        "outputId": "2c84e4a4-a51d-4f8e-999c-ccfe8e7e49e5",
        "colab": {
          "base_uri": "https://localhost:8080/"
        }
      },
      "outputs": [
        {
          "output_type": "stream",
          "name": "stdout",
          "text": [
            "Drive already mounted at /content/drive; to attempt to forcibly remount, call drive.mount(\"/content/drive\", force_remount=True).\n",
            "/content/drive/My Drive/cs231n/assignments/assignment1/cs231n/datasets\n",
            "/content/drive/My Drive/cs231n/assignments/assignment1\n"
          ]
        }
      ],
      "source": [
        "# This mounts your Google Drive to the Colab VM.\n",
        "from google.colab import drive\n",
        "drive.mount('/content/drive')\n",
        "\n",
        "# TODO: Enter the foldername in your Drive where you have saved the unzipped\n",
        "# assignment folder, e.g. 'cs231n/assignments/assignment1/'\n",
        "FOLDERNAME = 'cs231n/assignments/assignment1/'\n",
        "assert FOLDERNAME is not None, \"[!] Enter the foldername.\"\n",
        "\n",
        "# Now that we've mounted your Drive, this ensures that\n",
        "# the Python interpreter of the Colab VM can load\n",
        "# python files from within it.\n",
        "import sys\n",
        "sys.path.append('/content/drive/My Drive/{}'.format(FOLDERNAME))\n",
        "\n",
        "# This downloads the CIFAR-10 dataset to your Drive\n",
        "# if it doesn't already exist.\n",
        "%cd /content/drive/My\\ Drive/$FOLDERNAME/cs231n/datasets/\n",
        "!bash get_datasets.sh\n",
        "%cd /content/drive/My\\ Drive/$FOLDERNAME"
      ]
    },
    {
      "cell_type": "markdown",
      "id": "e2c3cfa1",
      "metadata": {
        "tags": [
          "pdf-title"
        ],
        "id": "e2c3cfa1"
      },
      "source": [
        "# Softmax exercise\n",
        "\n",
        "*Complete and hand in this completed worksheet (including its outputs and any supporting code outside of the worksheet) with your assignment submission. For more details see the [assignments page](http://vision.stanford.edu/teaching/cs231n/assignments.html) on the course website.*\n",
        "\n",
        "This exercise is analogous to the SVM exercise. You will:\n",
        "\n",
        "- implement a fully-vectorized **loss function** for the Softmax classifier\n",
        "- implement the fully-vectorized expression for its **analytic gradient**\n",
        "- **check your implementation** with numerical gradient\n",
        "- use a validation set to **tune the learning rate and regularization** strength\n",
        "- **optimize** the loss function with **SGD**\n",
        "- **visualize** the final learned weights\n"
      ]
    },
    {
      "cell_type": "code",
      "execution_count": null,
      "id": "c55a72bf",
      "metadata": {
        "tags": [
          "pdf-ignore"
        ],
        "id": "c55a72bf"
      },
      "outputs": [],
      "source": [
        "import random\n",
        "import numpy as np\n",
        "from cs231n.data_utils import load_CIFAR10\n",
        "import matplotlib.pyplot as plt\n",
        "\n",
        "%matplotlib inline\n",
        "plt.rcParams['figure.figsize'] = (10.0, 8.0) # set default size of plots\n",
        "plt.rcParams['image.interpolation'] = 'nearest'\n",
        "plt.rcParams['image.cmap'] = 'gray'\n",
        "\n",
        "# for auto-reloading extenrnal modules\n",
        "# see http://stackoverflow.com/questions/1907993/autoreload-of-modules-in-ipython\n",
        "%load_ext autoreload\n",
        "%autoreload 2"
      ]
    },
    {
      "cell_type": "code",
      "execution_count": null,
      "id": "b99594ec",
      "metadata": {
        "tags": [
          "pdf-ignore"
        ],
        "id": "b99594ec",
        "colab": {
          "base_uri": "https://localhost:8080/"
        },
        "outputId": "4fdd2e60-7d7a-468e-d72c-3b859f11e8cc"
      },
      "outputs": [
        {
          "output_type": "stream",
          "name": "stdout",
          "text": [
            "Train data shape:  (49000, 3073)\n",
            "Train labels shape:  (49000,)\n",
            "Validation data shape:  (1000, 3073)\n",
            "Validation labels shape:  (1000,)\n",
            "Test data shape:  (1000, 3073)\n",
            "Test labels shape:  (1000,)\n",
            "dev data shape:  (500, 3073)\n",
            "dev labels shape:  (500,)\n"
          ]
        }
      ],
      "source": [
        "def get_CIFAR10_data(num_training=49000, num_validation=1000, num_test=1000, num_dev=500):\n",
        "    \"\"\"\n",
        "    Load the CIFAR-10 dataset from disk and perform preprocessing to prepare\n",
        "    it for the linear classifier. These are the same steps as we used for the\n",
        "    SVM, but condensed to a single function.\n",
        "    \"\"\"\n",
        "    # Load the raw CIFAR-10 data\n",
        "    cifar10_dir = 'cs231n/datasets/cifar-10-batches-py'\n",
        "\n",
        "    # Cleaning up variables to prevent loading data multiple times (which may cause memory issue)\n",
        "    try:\n",
        "       del X_train, y_train\n",
        "       del X_test, y_test\n",
        "       print('Clear previously loaded data.')\n",
        "    except:\n",
        "       pass\n",
        "\n",
        "    X_train, y_train, X_test, y_test = load_CIFAR10(cifar10_dir)\n",
        "\n",
        "    # subsample the data\n",
        "    mask = list(range(num_training, num_training + num_validation))\n",
        "    X_val = X_train[mask]\n",
        "    y_val = y_train[mask]\n",
        "    mask = list(range(num_training))\n",
        "    X_train = X_train[mask]\n",
        "    y_train = y_train[mask]\n",
        "    mask = list(range(num_test))\n",
        "    X_test = X_test[mask]\n",
        "    y_test = y_test[mask]\n",
        "    mask = np.random.choice(num_training, num_dev, replace=False)\n",
        "    X_dev = X_train[mask]\n",
        "    y_dev = y_train[mask]\n",
        "\n",
        "    # Preprocessing: reshape the image data into rows\n",
        "    X_train = np.reshape(X_train, (X_train.shape[0], -1))\n",
        "    X_val = np.reshape(X_val, (X_val.shape[0], -1))\n",
        "    X_test = np.reshape(X_test, (X_test.shape[0], -1))\n",
        "    X_dev = np.reshape(X_dev, (X_dev.shape[0], -1))\n",
        "\n",
        "    # Normalize the data: subtract the mean image\n",
        "    mean_image = np.mean(X_train, axis = 0)\n",
        "    X_train -= mean_image\n",
        "    X_val -= mean_image\n",
        "    X_test -= mean_image\n",
        "    X_dev -= mean_image\n",
        "\n",
        "    # add bias dimension and transform into columns\n",
        "    X_train = np.hstack([X_train, np.ones((X_train.shape[0], 1))])\n",
        "    X_val = np.hstack([X_val, np.ones((X_val.shape[0], 1))])\n",
        "    X_test = np.hstack([X_test, np.ones((X_test.shape[0], 1))])\n",
        "    X_dev = np.hstack([X_dev, np.ones((X_dev.shape[0], 1))])\n",
        "\n",
        "    return X_train, y_train, X_val, y_val, X_test, y_test, X_dev, y_dev\n",
        "\n",
        "\n",
        "# Invoke the above function to get our data.\n",
        "X_train, y_train, X_val, y_val, X_test, y_test, X_dev, y_dev = get_CIFAR10_data()\n",
        "print('Train data shape: ', X_train.shape)\n",
        "print('Train labels shape: ', y_train.shape)\n",
        "print('Validation data shape: ', X_val.shape)\n",
        "print('Validation labels shape: ', y_val.shape)\n",
        "print('Test data shape: ', X_test.shape)\n",
        "print('Test labels shape: ', y_test.shape)\n",
        "print('dev data shape: ', X_dev.shape)\n",
        "print('dev labels shape: ', y_dev.shape)"
      ]
    },
    {
      "cell_type": "markdown",
      "id": "2713b7f4",
      "metadata": {
        "id": "2713b7f4"
      },
      "source": [
        "## Softmax Classifier\n",
        "\n",
        "Your code for this section will all be written inside `cs231n/classifiers/softmax.py`.\n"
      ]
    },
    {
      "cell_type": "code",
      "execution_count": null,
      "id": "6168f67e",
      "metadata": {
        "id": "6168f67e",
        "colab": {
          "base_uri": "https://localhost:8080/"
        },
        "outputId": "75add74c-f2e4-43bc-f7c6-61a630478199"
      },
      "outputs": [
        {
          "output_type": "stream",
          "name": "stdout",
          "text": [
            "loss: 2.302580\n",
            "sanity check: 2.302585\n"
          ]
        }
      ],
      "source": [
        "# First implement the naive softmax loss function with nested loops.\n",
        "# Open the file cs231n/classifiers/softmax.py and implement the\n",
        "# softmax_loss_naive function.\n",
        "\n",
        "from cs231n.classifiers.softmax import softmax_loss_naive\n",
        "import time\n",
        "\n",
        "# Generate a random softmax weight matrix and use it to compute the loss.\n",
        "W = np.random.randn(3073, 10) * 0.0001\n",
        "loss, grad = softmax_loss_naive(W, X_dev, y_dev, 0.0)\n",
        "\n",
        "# As a rough sanity check, our loss should be something close to -log(0.1).\n",
        "print('loss: %f' % loss)\n",
        "print('sanity check: %f' % (-np.log(0.1)))"
      ]
    },
    {
      "cell_type": "markdown",
      "id": "b35bc604",
      "metadata": {
        "tags": [
          "pdf-inline"
        ],
        "id": "b35bc604"
      },
      "source": [
        "**Inline Question 1**\n",
        "\n",
        "Why do we expect our loss to be close to -log(0.1)? Explain briefly.**\n",
        "\n",
        "$\\color{blue}{\\textit Your Answer:}$ *loss of -log(0.1) means that the probability for the currect class is 1, which means we predicted perfectly the training image to the currect class and that there is no change that the image will be anything else(as the probability for the other classes are 0). so loss close to -log(0.1) means perfect and correct predict to the training image*\n",
        "\n"
      ]
    },
    {
      "cell_type": "code",
      "execution_count": null,
      "id": "b7bef674",
      "metadata": {
        "id": "b7bef674",
        "colab": {
          "base_uri": "https://localhost:8080/"
        },
        "outputId": "0bb2a602-2caa-4cf4-a523-3a663e48502a"
      },
      "outputs": [
        {
          "output_type": "stream",
          "name": "stdout",
          "text": [
            "numerical: -0.002269 analytic: 0.510654, relative error: 1.000000e+00\n",
            "numerical: 0.000177 analytic: -3.024638, relative error: 1.000000e+00\n",
            "numerical: -0.000001 analytic: 0.272830, relative error: 1.000000e+00\n",
            "numerical: -0.000000 analytic: 0.497320, relative error: 1.000000e+00\n",
            "numerical: -0.000000 analytic: -1.554583, relative error: 1.000000e+00\n",
            "numerical: 0.000000 analytic: -1.175511, relative error: 1.000000e+00\n",
            "numerical: 0.000000 analytic: 1.878839, relative error: 1.000000e+00\n",
            "numerical: 0.000000 analytic: -1.216551, relative error: 1.000000e+00\n",
            "numerical: 0.000199 analytic: 0.623812, relative error: 9.993622e-01\n",
            "numerical: -0.000001 analytic: -2.533730, relative error: 9.999993e-01\n",
            "numerical: -0.015432 analytic: 0.817855, relative error: 1.000000e+00\n",
            "numerical: -0.011174 analytic: -0.583620, relative error: 9.624277e-01\n",
            "numerical: 0.011974 analytic: -0.130271, relative error: 1.000000e+00\n",
            "numerical: 0.023507 analytic: 0.099979, relative error: 6.192820e-01\n",
            "numerical: -0.009283 analytic: -1.381363, relative error: 9.866496e-01\n",
            "numerical: -0.001791 analytic: 9.773885, relative error: 1.000000e+00\n",
            "numerical: -0.016160 analytic: -0.126397, relative error: 7.732802e-01\n",
            "numerical: -0.007663 analytic: -0.215487, relative error: 9.313234e-01\n",
            "numerical: 0.011374 analytic: -0.080375, relative error: 1.000000e+00\n",
            "numerical: 0.005057 analytic: -0.373960, relative error: 1.000000e+00\n"
          ]
        }
      ],
      "source": [
        "# Complete the implementation of softmax_loss_naive and implement a (naive)\n",
        "# version of the gradient that uses nested loops.\n",
        "loss, grad = softmax_loss_naive(W, X_dev, y_dev, 0.0)\n",
        "\n",
        "# As we did for the SVM, use numeric gradient checking as a debugging tool.\n",
        "# The numeric gradient should be close to the analytic gradient.\n",
        "from cs231n.gradient_check import grad_check_sparse\n",
        "f = lambda w: softmax_loss_naive(w, X_dev, y_dev, 0.0)[0]\n",
        "grad_numerical = grad_check_sparse(f, W, grad, 10)\n",
        "\n",
        "# similar to SVM case, do another gradient check with regularization\n",
        "loss, grad = softmax_loss_naive(W, X_dev, y_dev, 5e1)\n",
        "f = lambda w: softmax_loss_naive(w, X_dev, y_dev, 5e1)[0]\n",
        "grad_numerical = grad_check_sparse(f, W, grad, 10)"
      ]
    },
    {
      "cell_type": "code",
      "execution_count": null,
      "id": "3994f8a3",
      "metadata": {
        "id": "3994f8a3",
        "colab": {
          "base_uri": "https://localhost:8080/"
        },
        "outputId": "111406e2-6156-4071-a941-1cfcbb518d68"
      },
      "outputs": [
        {
          "output_type": "stream",
          "name": "stdout",
          "text": [
            "naive loss: 2.361635e+00 computed in 0.319874s\n",
            "vectorized loss: 2.361385e+00 computed in 0.019158s\n",
            "Loss difference: 0.000250\n",
            "Gradient difference: 0.000000\n"
          ]
        }
      ],
      "source": [
        "# Now that we have a naive implementation of the softmax loss function and its gradient,\n",
        "# implement a vectorized version in softmax_loss_vectorized.\n",
        "# The two versions should compute the same results, but the vectorized version should be\n",
        "# much faster.\n",
        "tic = time.time()\n",
        "loss_naive, grad_naive = softmax_loss_naive(W, X_dev, y_dev, 0.000005)\n",
        "toc = time.time()\n",
        "print('naive loss: %e computed in %fs' % (loss_naive, toc - tic))\n",
        "\n",
        "from cs231n.classifiers.softmax import softmax_loss_vectorized\n",
        "tic = time.time()\n",
        "loss_vectorized, grad_vectorized = softmax_loss_vectorized(W, X_dev, y_dev, 0.000005)\n",
        "toc = time.time()\n",
        "print('vectorized loss: %e computed in %fs' % (loss_vectorized, toc - tic))\n",
        "\n",
        "# As we did for the SVM, we use the Frobenius norm to compare the two versions\n",
        "# of the gradient.\n",
        "grad_difference = np.linalg.norm(grad_naive - grad_vectorized, ord='fro')\n",
        "print('Loss difference: %f' % np.abs(loss_naive - loss_vectorized))\n",
        "print('Gradient difference: %f' % grad_difference)"
      ]
    },
    {
      "cell_type": "code",
      "execution_count": null,
      "id": "bd171311",
      "metadata": {
        "tags": [
          "code"
        ],
        "test": "tuning",
        "id": "bd171311",
        "colab": {
          "base_uri": "https://localhost:8080/"
        },
        "outputId": "71eccdc7-4cb6-4201-87a8-e5784248a173"
      },
      "outputs": [
        {
          "output_type": "stream",
          "name": "stdout",
          "text": [
            "iteration 0 / 1500: loss 5.235748\n",
            "iteration 100 / 1500: loss 3.073225\n",
            "iteration 200 / 1500: loss 2.268835\n",
            "iteration 300 / 1500: loss 2.117403\n",
            "iteration 400 / 1500: loss 2.090778\n",
            "iteration 500 / 1500: loss 2.055160\n",
            "iteration 600 / 1500: loss 2.043318\n",
            "iteration 700 / 1500: loss 1.999025\n",
            "iteration 800 / 1500: loss 1.967321\n",
            "iteration 900 / 1500: loss 2.033987\n",
            "iteration 1000 / 1500: loss 2.012522\n",
            "iteration 1100 / 1500: loss 1.985358\n",
            "iteration 1200 / 1500: loss 1.890264\n",
            "iteration 1300 / 1500: loss 1.991131\n",
            "iteration 1400 / 1500: loss 1.998653\n",
            "iteration 0 / 1500: loss 4.940297\n",
            "iteration 100 / 1500: loss 2.394746\n",
            "iteration 200 / 1500: loss 2.114133\n",
            "iteration 300 / 1500: loss 2.078770\n",
            "iteration 400 / 1500: loss 2.077447\n",
            "iteration 500 / 1500: loss 2.040392\n",
            "iteration 600 / 1500: loss 2.047197\n",
            "iteration 700 / 1500: loss 2.089812\n",
            "iteration 800 / 1500: loss 2.040693\n",
            "iteration 900 / 1500: loss 2.107249\n",
            "iteration 1000 / 1500: loss 2.093841\n",
            "iteration 1100 / 1500: loss 2.049070\n",
            "iteration 1200 / 1500: loss 2.055626\n",
            "iteration 1300 / 1500: loss 2.051517\n",
            "iteration 1400 / 1500: loss 2.070384\n",
            "iteration 0 / 1500: loss 5.305233\n",
            "iteration 100 / 1500: loss 1.971368\n",
            "iteration 200 / 1500: loss 2.047248\n",
            "iteration 300 / 1500: loss 1.936817\n",
            "iteration 400 / 1500: loss 2.032541\n",
            "iteration 500 / 1500: loss 2.025356\n",
            "iteration 600 / 1500: loss 2.015359\n",
            "iteration 700 / 1500: loss 1.982307\n",
            "iteration 800 / 1500: loss 2.000256\n",
            "iteration 900 / 1500: loss 2.014691\n",
            "iteration 1000 / 1500: loss 1.924021\n",
            "iteration 1100 / 1500: loss 1.954089\n",
            "iteration 1200 / 1500: loss 2.040834\n",
            "iteration 1300 / 1500: loss 2.037758\n",
            "iteration 1400 / 1500: loss 2.049149\n",
            "iteration 0 / 1500: loss 4.688383\n",
            "iteration 100 / 1500: loss 2.073931\n",
            "iteration 200 / 1500: loss 2.085853\n",
            "iteration 300 / 1500: loss 2.035648\n",
            "iteration 400 / 1500: loss 2.038635\n",
            "iteration 500 / 1500: loss 2.118202\n",
            "iteration 600 / 1500: loss 2.080369\n",
            "iteration 700 / 1500: loss 2.026371\n",
            "iteration 800 / 1500: loss 2.070188\n",
            "iteration 900 / 1500: loss 2.046838\n",
            "iteration 1000 / 1500: loss 2.081586\n",
            "iteration 1100 / 1500: loss 2.068501\n",
            "iteration 1200 / 1500: loss 2.093662\n",
            "iteration 1300 / 1500: loss 2.031764\n",
            "iteration 1400 / 1500: loss 2.055668\n",
            "lr 1.000000e-07 reg 2.500000e+04 train accuracy: 0.328551 val accuracy: 0.345000\n",
            "lr 1.000000e-07 reg 5.000000e+04 train accuracy: 0.308367 val accuracy: 0.325000\n",
            "lr 5.000000e-07 reg 2.500000e+04 train accuracy: 0.321714 val accuracy: 0.336000\n",
            "lr 5.000000e-07 reg 5.000000e+04 train accuracy: 0.303673 val accuracy: 0.319000\n",
            "best validation accuracy achieved during cross-validation: 0.345000\n"
          ]
        }
      ],
      "source": [
        "# Use the validation set to tune hyperparameters (regularization strength and\n",
        "# learning rate). You should experiment with different ranges for the learning\n",
        "# rates and regularization strengths; if you are careful you should be able to\n",
        "# get a classification accuracy of over 0.35 on the validation set.\n",
        "\n",
        "from cs231n.classifiers import Softmax\n",
        "results = {}\n",
        "best_val = -1\n",
        "best_softmax = None\n",
        "\n",
        "################################################################################\n",
        "# TODO:                                                                        #\n",
        "# Use the validation set to set the learning rate and regularization strength. #\n",
        "# This should be identical to the validation that you did for the SVM; save    #\n",
        "# the best trained softmax classifer in best_softmax.                          #\n",
        "################################################################################\n",
        "\n",
        "# Provided as a reference. You may or may not want to change these hyperparameters\n",
        "learning_rates = [1e-7, 5e-7]\n",
        "regularization_strengths = [2.5e4, 5e4]\n",
        "\n",
        "# *****START OF YOUR CODE (DO NOT DELETE/MODIFY THIS LINE)*****\n",
        "\n",
        "i=0\n",
        "while i<len(learning_rates):\n",
        "    j=0\n",
        "    while j<len(regularization_strengths):\n",
        "      softmax=Softmax()\n",
        "      softmax.train(X_train,y_train,learning_rates[i],regularization_strengths[j],num_iters=1500,verbose=True)\n",
        "      y_train_pred=softmax.predict(X_train)\n",
        "      train_accuracy=np.mean(y_train==y_train_pred)\n",
        "      y_val_pred=softmax.predict(X_val)\n",
        "      val_accuracy=np.mean(y_val==y_val_pred)\n",
        "      results[(learning_rates[i],regularization_strengths[j])]=[train_accuracy,val_accuracy]\n",
        "      if val_accuracy>best_val:\n",
        "        best_val=val_accuracy\n",
        "        best_softmax=softmax\n",
        "      j+=1\n",
        "    i+=1\n",
        "\n",
        "\n",
        "\n",
        "# *****END OF YOUR CODE (DO NOT DELETE/MODIFY THIS LINE)*****\n",
        "\n",
        "# Print out results.\n",
        "for lr, reg in sorted(results):\n",
        "    train_accuracy, val_accuracy = results[(lr, reg)]\n",
        "    print('lr %e reg %e train accuracy: %f val accuracy: %f' % (\n",
        "                lr, reg, train_accuracy, val_accuracy))\n",
        "\n",
        "print('best validation accuracy achieved during cross-validation: %f' % best_val)"
      ]
    },
    {
      "cell_type": "code",
      "execution_count": null,
      "id": "f94a8f12",
      "metadata": {
        "test": "test",
        "id": "f94a8f12",
        "colab": {
          "base_uri": "https://localhost:8080/"
        },
        "outputId": "163a0992-48b3-4fd0-83a7-5c4fb70b19c4"
      },
      "outputs": [
        {
          "output_type": "stream",
          "name": "stdout",
          "text": [
            "softmax on raw pixels final test set accuracy: 0.342000\n"
          ]
        }
      ],
      "source": [
        "# evaluate on test set\n",
        "# Evaluate the best softmax on test set\n",
        "y_test_pred = best_softmax.predict(X_test)\n",
        "test_accuracy = np.mean(y_test == y_test_pred)\n",
        "print('softmax on raw pixels final test set accuracy: %f' % (test_accuracy, ))"
      ]
    },
    {
      "cell_type": "markdown",
      "id": "7e2112ee",
      "metadata": {
        "tags": [
          "pdf-inline"
        ],
        "id": "7e2112ee"
      },
      "source": [
        "**Inline Question 2** - *True or False*\n",
        "\n",
        "Suppose the overall training loss is defined as the sum of the per-datapoint loss over all training examples. It is possible to add a new datapoint to a training set that would leave the SVM loss unchanged, but this is not the case with the Softmax classifier loss.\n",
        "\n",
        "$\\color{blue}{\\textit Your Answer:}$ true\n",
        "\n",
        "\n",
        "$\\color{blue}{\\textit Your Explanation:}$ this statement is true because in the svm we calculate the loss only if the margin is bigger than one, so we can add a new datapoint which its margin is smaller than 1 so the loss remain unchanged also with the new data point. in the softmax this isnt the case as we compute the loss by probabilites so becauae always there is chance to the datapoint to be classified to each class, we can add the same datapoint we used for the svm to the softmax which its margin is less than 1 but its score is also higher than the score for the really class so the loss will grow. we will also noice that because the softmax uses probabilities, and there is always a chance to be classified to each class, the softmax classidier always produce a non-zero loss for each training point, so for each datapoint, the svm loss might not change(if the margin is less than 1) but the softmax loss will grow with each more datapoint.\n",
        "\n"
      ]
    },
    {
      "cell_type": "code",
      "execution_count": null,
      "id": "86d86120",
      "metadata": {
        "id": "86d86120",
        "colab": {
          "base_uri": "https://localhost:8080/",
          "height": 528
        },
        "outputId": "efdf5943-95e0-4fb7-b971-4e28195dd2ca"
      },
      "outputs": [
        {
          "output_type": "display_data",
          "data": {
            "text/plain": [
              "<Figure size 1000x800 with 10 Axes>"
            ],
            "image/png": "[encoded data removed]"
          },
          "metadata": {}
        }
      ],
      "source": [
        "# Visualize the learned weights for each class\n",
        "w = best_softmax.W[:-1,:] # strip out the bias\n",
        "w = w.reshape(32, 32, 3, 10)\n",
        "\n",
        "w_min, w_max = np.min(w), np.max(w)\n",
        "\n",
        "classes = ['plane', 'car', 'bird', 'cat', 'deer', 'dog', 'frog', 'horse', 'ship', 'truck']\n",
        "for i in range(10):\n",
        "    plt.subplot(2, 5, i + 1)\n",
        "\n",
        "    # Rescale the weights to be between 0 and 255\n",
        "    wimg = 255.0 * (w[:, :, :, i].squeeze() - w_min) / (w_max - w_min)\n",
        "    plt.imshow(wimg.astype('uint8'))\n",
        "    plt.axis('off')\n",
        "    plt.title(classes[i])"
      ]
    },
    {
      "cell_type": "code",
      "execution_count": null,
      "id": "24688f99",
      "metadata": {
        "id": "24688f99"
      },
      "outputs": [],
      "source": []
    }
  ],
  "metadata": {
    "colab": {
      "provenance": [],
      "include_colab_link": true
    },
    "language_info": {
      "name": "python"
    },
    "kernelspec": {
      "name": "python3",
      "display_name": "Python 3"
    }
  },
  "nbformat": 4,
  "nbformat_minor": 5
}